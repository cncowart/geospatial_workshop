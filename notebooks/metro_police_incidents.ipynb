{
 "cells": [
  {
   "cell_type": "code",
   "execution_count": null,
   "metadata": {},
   "outputs": [],
   "source": [
    "from shapely.geometry import Point\n",
    "import pandas as pd\n",
    "import geopandas as gpd\n",
    "import matplotlib.pyplot as plt\n",
    "import folium\n",
    "from folium.plugins import MarkerCluster\n",
    "from folium.plugins import FastMarkerCluster"
   ]
  },
  {
   "cell_type": "code",
   "execution_count": null,
   "metadata": {},
   "outputs": [],
   "source": [
    "zipcodes = gpd.read_file('../data/zipcodes.geojson')\n",
    "print(zipcodes.crs)\n",
    "zipcodes.head( )"
   ]
  },
  {
   "cell_type": "code",
   "execution_count": null,
   "metadata": {},
   "outputs": [],
   "source": [
    "incidents = gpd.read_file('../data/metro_nashville_police_incidents.geojson')\n",
    "print(incidents.crs)\n",
    "incidents.head(5)"
   ]
  },
  {
   "cell_type": "code",
   "execution_count": null,
   "metadata": {},
   "outputs": [],
   "source": [
    "type(incidents)"
   ]
  },
  {
   "cell_type": "code",
   "execution_count": null,
   "metadata": {},
   "outputs": [],
   "source": [
    "zipcodes.plot()"
   ]
  },
  {
   "cell_type": "code",
   "execution_count": null,
   "metadata": {},
   "outputs": [],
   "source": [
    "incidents.info()"
   ]
  },
  {
   "cell_type": "code",
   "execution_count": null,
   "metadata": {},
   "outputs": [],
   "source": [
    "incidents.crs"
   ]
  },
  {
   "cell_type": "code",
   "execution_count": null,
   "metadata": {},
   "outputs": [],
   "source": [
    "zipcodes.crs"
   ]
  },
  {
   "cell_type": "code",
   "execution_count": null,
   "metadata": {},
   "outputs": [],
   "source": [
    "incidents_geo = gpd.GeoDataFrame(incidents, \n",
    "                           crs = zipcodes.crs, \n",
    "                           geometry = incidents['geometry'])\n",
    "type(incidents_geo)"
   ]
  },
  {
   "cell_type": "code",
   "execution_count": null,
   "metadata": {},
   "outputs": [],
   "source": [
    "zipcodes = zipcodes[['zip', 'po_name', 'geometry']]\n",
    "##incidents_geo = incidents_geo[['incident_number', 'latitude', 'longitude', 'geometry']] \n",
    "crime_by_zip = gpd.sjoin(incidents_geo, zipcodes, op = 'within')\n",
    "crime_by_zip.head()"
   ]
  },
  {
   "cell_type": "code",
   "execution_count": null,
   "metadata": {},
   "outputs": [],
   "source": [
    "print(crime_by_zip.shape)\n",
    "crime_by_zip['zip'].value_counts()"
   ]
  },
  {
   "cell_type": "code",
   "execution_count": null,
   "metadata": {},
   "outputs": [],
   "source": [
    "zip37204 = crime_by_zip.loc[crime_by_zip['zip'] == '37204']\n",
    "zip37204.head()"
   ]
  },
  {
   "cell_type": "code",
   "execution_count": null,
   "metadata": {},
   "outputs": [],
   "source": [
    "##zip37204 = zip37204.loc[zip37204['investigation_status'] == 'Open']\n",
    "#print(zip37204)"
   ]
  },
  {
   "cell_type": "code",
   "execution_count": null,
   "metadata": {},
   "outputs": [],
   "source": [
    "polygon37204 = zipcodes.loc[zipcodes['zip'] == '37204']\n",
    "polygon37204.shape\n",
    "ax = polygon37204.plot(figsize = (8, 10), color = 'lightgreen')\n",
    "zip37204.plot( ax = ax);\n",
    "plt.show();"
   ]
  },
  {
   "cell_type": "code",
   "execution_count": null,
   "metadata": {},
   "outputs": [],
   "source": []
  },
  {
   "cell_type": "code",
   "execution_count": null,
   "metadata": {},
   "outputs": [],
   "source": [
    "center = polygon37204.centroid\n",
    "print(center)"
   ]
  },
  {
   "cell_type": "code",
   "execution_count": null,
   "metadata": {},
   "outputs": [],
   "source": [
    "area_center = [center.y, center.x]\n",
    "print(area_center)"
   ]
  },
  {
   "cell_type": "code",
   "execution_count": null,
   "metadata": {},
   "outputs": [],
   "source": [
    "map_37204 = folium.Map(location =  area_center, zoom_start = 12)\n",
    "map_37204"
   ]
  },
  {
   "cell_type": "code",
   "execution_count": null,
   "metadata": {},
   "outputs": [],
   "source": [
    "map_37204 = folium.Map(location =  area_center, zoom_start = 12)\n",
    "\n",
    "folium.GeoJson(polygon37204).add_to(map_37204)\n",
    "#for row_index, row_values in zip37204.iterrows():\n",
    "   # loc = [row_values['latitude'], row_values['longitude']]\n",
    "    #icon=folium.Icon(color=\"blue\", prefix='fa')  \n",
    "    #marker = folium.Marker(\n",
    "     #   location = loc\n",
    "      #  , icon = icon) \n",
    "    #marker.add_to(map_37204)\n",
    "#map_37204\n",
    "locations = zip37204[['latitude', 'longitude']].values.tolist()\n",
    "map_37204.add_child(\n",
    "    FastMarkerCluster(locations)\n",
    ")\n",
    "map_37204"
   ]
  },
  {
   "cell_type": "code",
   "execution_count": null,
   "metadata": {},
   "outputs": [],
   "source": [
    "polygon = zipcodes\n",
    "polygon.shape\n",
    "ax2 = polygon.plot(figsize = (8, 10), color = 'lightgreen')\n",
    "crime_by_zip.plot( ax = ax2);\n",
    "plt.show();"
   ]
  },
  {
   "cell_type": "code",
   "execution_count": null,
   "metadata": {},
   "outputs": [],
   "source": [
    "center2 = polygon.centroid\n",
    "print(center)"
   ]
  },
  {
   "cell_type": "code",
   "execution_count": null,
   "metadata": {},
   "outputs": [],
   "source": [
    "area_center2 = [center2.y, center2.x]\n",
    "print(area_center2)"
   ]
  },
  {
   "cell_type": "code",
   "execution_count": null,
   "metadata": {},
   "outputs": [],
   "source": [
    "map_nash = folium.Map(location =  area_center2, zoom_start = 12)\n",
    "\n",
    "folium.GeoJson(polygon).add_to(map_nash)\n",
    "locations2 = crime_by_zip[['latitude', 'longitude']].values.tolist()\n",
    "map_nash.add_child(\n",
    "    FastMarkerCluster(locations2)\n",
    ")\n",
    "map_nash"
   ]
  }
 ],
 "metadata": {
  "kernelspec": {
   "display_name": "Python 3",
   "language": "python",
   "name": "python3"
  },
  "language_info": {
   "codemirror_mode": {
    "name": "ipython",
    "version": 3
   },
   "file_extension": ".py",
   "mimetype": "text/x-python",
   "name": "python",
   "nbconvert_exporter": "python",
   "pygments_lexer": "ipython3",
   "version": "3.8.5"
  }
 },
 "nbformat": 4,
 "nbformat_minor": 4
}
